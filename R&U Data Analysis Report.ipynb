{
 "cells": [
  {
   "cell_type": "markdown",
   "metadata": {},
   "source": [
    "# R&U Data Analysis Report"
   ]
  },
  {
   "cell_type": "markdown",
   "metadata": {},
   "source": [
    "## Import packages and Data-Cleaning\n",
    "\n",
    "1. Import the tidyverse package of R\n",
    "2. Extract the time lag between sending the SMS and making the phone call\n",
    "3. Extract the month of each phone call"
   ]
  },
  {
   "cell_type": "code",
   "execution_count": 1,
   "metadata": {},
   "outputs": [
    {
     "name": "stderr",
     "output_type": "stream",
     "text": [
      "Registered S3 method overwritten by 'rvest':\n",
      "  method            from\n",
      "  read_xml.response xml2\n",
      "-- Attaching packages --------------------------------------- tidyverse 1.2.1 --\n",
      "√ ggplot2 3.1.1       √ purrr   0.3.2  \n",
      "√ tibble  2.1.1       √ dplyr   0.8.0.1\n",
      "√ tidyr   0.8.3       √ stringr 1.4.0  \n",
      "√ readr   1.3.1       √ forcats 0.4.0  \n",
      "-- Conflicts ------------------------------------------ tidyverse_conflicts() --\n",
      "x dplyr::filter() masks stats::filter()\n",
      "x dplyr::lag()    masks stats::lag()\n",
      "Parsed with column specification:\n",
      "cols(\n",
      "  .default = col_double(),\n",
      "  SubmissionDate = col_datetime(format = \"\"),\n",
      "  starttime = col_datetime(format = \"\"),\n",
      "  endtime = col_datetime(format = \"\"),\n",
      "  simid = col_character(),\n",
      "  caller_name = col_character(),\n",
      "  pf_tr_cont_name = col_character(),\n",
      "  pf_tr_sms_sent_date = col_character(),\n",
      "  pf_tr_sms_content = col_character(),\n",
      "  person_unavail_other = col_character(),\n",
      "  rec_sms_from_CSH_flag_other = col_character(),\n",
      "  msg_content = col_character(),\n",
      "  read_msg_content = col_character(),\n",
      "  instanceID = col_character(),\n",
      "  formdef_id = col_character(),\n",
      "  review_quality = col_logical(),\n",
      "  KEY = col_character()\n",
      ")\n",
      "See spec(...) for full column specifications.\n",
      "Warning message:\n",
      "\"4 parsing failures.\n",
      " row                   col               expected                                    actual             file\n",
      "1085 pf_tr_cont_number     no trailing characters -07-2019                                  'R&U survey.csv'\n",
      "1085 read_msg_content_flag no trailing characters  3 6                                      'R&U survey.csv'\n",
      "1085 formdef_version       a double               receiving_and_understanding_survey        'R&U survey.csv'\n",
      "1085 review_quality        1/0/T/F/TRUE/FALSE     uuid:c1b3f2ea-0206-4fb9-9cb4-6c8d1b53b7e0 'R&U survey.csv'\n",
      "\""
     ]
    }
   ],
   "source": [
    "library(tidyverse)\n",
    "\n",
    "data <- read_csv('R&U survey.csv')\n",
    "data$days_lag <- as.Date(data$endtime, format=\"%Y/%m/%d\")-\n",
    "        as.Date(data$pf_tr_sms_sent_date, format=\"%d-%m-%Y\")\n",
    "data$sent_month <- strftime(as.Date(data$pf_tr_sms_sent_date, format=\"%d-%m-%Y\"), \"%m\")"
   ]
  },
  {
   "cell_type": "markdown",
   "metadata": {},
   "source": [
    "## 1. Find the distribution of call_status, indicating if a call is successfully made\n",
    "\n",
    "0\tPicked Up\n",
    "<br>\n",
    "1\tCut after few beeps\n",
    "<br>\n",
    "2\tunreachable\n",
    "<br>\n",
    "3\tSwitched off\n",
    "<br>\n",
    "4\tWrong Number\n",
    "<br>\n",
    "5\tUnanswered\n",
    "<br>\n",
    "6\tOther\n",
    "<br>"
   ]
  },
  {
   "cell_type": "code",
   "execution_count": 2,
   "metadata": {},
   "outputs": [
    {
     "data": {
      "text/plain": [
       "\n",
       "  0   1   2   3   4   5   6 \n",
       "708  82  29 141 291 350 468 "
      ]
     },
     "metadata": {},
     "output_type": "display_data"
    },
    {
     "data": {
      "text/plain": [
       "\n",
       "         0          1          2          3          4          5          6 \n",
       "0.30191898 0.03496802 0.01236674 0.06012793 0.12409382 0.14925373 0.19957356 "
      ]
     },
     "metadata": {},
     "output_type": "display_data"
    },
    {
     "data": {
      "image/png": "[encoded data removed]",
      "text/plain": [
       "plot without title"
      ]
     },
     "metadata": {},
     "output_type": "display_data"
    }
   ],
   "source": [
    "data$call_status_fill[data$call_status_fill==\"\"] <- \"NA\"\n",
    "table(data$call_status_fill)\n",
    "table(data$call_status_fill)/length(data$call_status_fill)\n",
    "ggplot(data, aes(x = call_status_fill)) +  \n",
    "        geom_bar(aes(y = (..count..)/sum(..count..))) +\n",
    "        scale_y_continuous(labels=scales::percent) +\n",
    "        ylab(\"Percentage Share of Call Status\")"
   ]
  },
  {
   "cell_type": "markdown",
   "metadata": {},
   "source": [
    "Among 2345 calls collected, approximately 30% of the calls were picked up, and about 3% were cut after few beeps"
   ]
  },
  {
   "cell_type": "markdown",
   "metadata": {},
   "source": [
    "## Filtering the data of answered calls, figuring out that only 708 out of 2,345 calls were answered, all of which happened in the month of July. I doubt if the surveyor successfully write down the call_status in phone calls in May and June?"
   ]
  },
  {
   "cell_type": "code",
   "execution_count": 3,
   "metadata": {},
   "outputs": [
    {
     "data": {
      "text/html": [
       "<table>\n",
       "<thead><tr><th scope=col>Var1</th><th scope=col>Freq</th></tr></thead>\n",
       "<tbody>\n",
       "\t<tr><td>07 </td><td>708</td></tr>\n",
       "</tbody>\n",
       "</table>\n"
      ],
      "text/latex": [
       "\\begin{tabular}{r|ll}\n",
       " Var1 & Freq\\\\\n",
       "\\hline\n",
       "\t 07  & 708\\\\\n",
       "\\end{tabular}\n"
      ],
      "text/markdown": [
       "\n",
       "| Var1 | Freq |\n",
       "|---|---|\n",
       "| 07  | 708 |\n",
       "\n"
      ],
      "text/plain": [
       "  Var1 Freq\n",
       "1 07   708 "
      ]
     },
     "metadata": {},
     "output_type": "display_data"
    }
   ],
   "source": [
    "data_answered <- subset(data, call_status_fill == \"0\") \n",
    "data.frame(table(data_answered$sent_month))"
   ]
  },
  {
   "attachments": {},
   "cell_type": "markdown",
   "metadata": {},
   "source": [
    "## 2. Find the distribution of the consent rate, indicating if the interviewee agreed to do the interview\n",
    "\n",
    "0\tNo\n",
    "<br>\n",
    "1\tYes\n",
    "<br>\n",
    "2\tCannot talk as of now, Call back later\n",
    "<br>\n",
    "3\tPhone cut in between while the surveyor is still talking\n",
    "<br>"
   ]
  },
  {
   "cell_type": "code",
   "execution_count": 4,
   "metadata": {},
   "outputs": [
    {
     "data": {
      "text/plain": [
       "\n",
       "          0           1           2           3 \n",
       "0.025423729 0.871468927 0.008474576 0.094632768 "
      ]
     },
     "metadata": {},
     "output_type": "display_data"
    },
    {
     "data": {
      "image/png": "[encoded data removed]",
      "text/plain": [
       "plot without title"
      ]
     },
     "metadata": {},
     "output_type": "display_data"
    }
   ],
   "source": [
    "data_answered$consent <- as.character(data_answered$consent)\n",
    "table(data_answered$consent)/length(data_answered$consent)\n",
    "ggplot(data_answered, aes(x = consent)) +  \n",
    "        geom_bar(aes(y = (..count..)/sum(..count..))) +\n",
    "        scale_y_continuous(labels=scales::percent) +\n",
    "        ylab(\"Percentage Share of Each Consent Response\")"
   ]
  },
  {
   "cell_type": "markdown",
   "metadata": {},
   "source": [
    "Among 708 answered calls, 87% agreed to do the phone interview, about 2.5% rejected, and about 9.4% cut in while the surveyor was still talking"
   ]
  },
  {
   "cell_type": "code",
   "execution_count": 5,
   "metadata": {},
   "outputs": [],
   "source": [
    "# Filter the consented phone calls, which has 617 records out of 708 successful calls\n",
    "data_consent <- subset(data_answered, consent == \"1\")"
   ]
  },
  {
   "attachments": {},
   "cell_type": "markdown",
   "metadata": {},
   "source": [
    "## 3. Find the distribution of the respondents' identities, indicating if the respondent is the initial contact\n",
    "\n",
    "0\tNo\n",
    "<br>\n",
    "1\tYes\n",
    "<br>\n",
    "2\tWrong Number\n",
    "<br>"
   ]
  },
  {
   "cell_type": "code",
   "execution_count": 6,
   "metadata": {},
   "outputs": [
    {
     "data": {
      "text/plain": [
       "\n",
       "  0   1   2 \n",
       "367  87 163 "
      ]
     },
     "metadata": {},
     "output_type": "display_data"
    },
    {
     "data": {
      "text/html": [
       "<strong>1:</strong> 0.141004862236629"
      ],
      "text/latex": [
       "\\textbf{1:} 0.141004862236629"
      ],
      "text/markdown": [
       "**1:** 0.141004862236629"
      ],
      "text/plain": [
       "        1 \n",
       "0.1410049 "
      ]
     },
     "metadata": {},
     "output_type": "display_data"
    },
    {
     "data": {
      "text/html": [
       "<strong>0:</strong> 0.594813614262561"
      ],
      "text/latex": [
       "\\textbf{0:} 0.594813614262561"
      ],
      "text/markdown": [
       "**0:** 0.594813614262561"
      ],
      "text/plain": [
       "        0 \n",
       "0.5948136 "
      ]
     },
     "metadata": {},
     "output_type": "display_data"
    },
    {
     "data": {
      "image/png": "[encoded data removed]",
      "text/plain": [
       "plot without title"
      ]
     },
     "metadata": {},
     "output_type": "display_data"
    }
   ],
   "source": [
    "data_consent$is_resp_cont_name <- as.character(data_consent$is_resp_cont_name)\n",
    "table(data_consent$is_resp_cont_name)\n",
    "table(data_consent$is_resp_cont_name)[\"1\"]/length(data_consent$is_resp_cont_name)\n",
    "table(data_consent$is_resp_cont_name)[\"0\"]/length(data_consent$is_resp_cont_name)\n",
    "ggplot(data_consent, aes(x = is_resp_cont_name)) +  \n",
    "        geom_bar(aes(y = (..count..)/sum(..count..))) +\n",
    "        scale_y_continuous(labels=scales::percent) +\n",
    "        ylab(\"Percentage Share of Each Initial Contact Option\")"
   ]
  },
  {
   "cell_type": "markdown",
   "metadata": {},
   "source": [
    "59% of the respondents are non-initial contacts, and 14% are initial contacts"
   ]
  },
  {
   "attachments": {},
   "cell_type": "markdown",
   "metadata": {},
   "source": [
    "## 4. Find the distribution of responses to requests of speaking to initial contacts\n",
    "\n",
    "1\tYes\n",
    "<br>\n",
    "0\tNo\n",
    "<br>"
   ]
  },
  {
   "cell_type": "code",
   "execution_count": 7,
   "metadata": {},
   "outputs": [
    {
     "data": {
      "text/plain": [
       "\n",
       "  0   1 \n",
       "338  29 "
      ]
     },
     "metadata": {},
     "output_type": "display_data"
    },
    {
     "data": {
      "text/html": [
       "<strong>0:</strong> 0.920980926430518"
      ],
      "text/latex": [
       "\\textbf{0:} 0.920980926430518"
      ],
      "text/markdown": [
       "**0:** 0.920980926430518"
      ],
      "text/plain": [
       "        0 \n",
       "0.9209809 "
      ]
     },
     "metadata": {},
     "output_type": "display_data"
    },
    {
     "data": {
      "text/html": [
       "<strong>1:</strong> 0.0790190735694823"
      ],
      "text/latex": [
       "\\textbf{1:} 0.0790190735694823"
      ],
      "text/markdown": [
       "**1:** 0.0790190735694823"
      ],
      "text/plain": [
       "         1 \n",
       "0.07901907 "
      ]
     },
     "metadata": {},
     "output_type": "display_data"
    },
    {
     "data": {
      "image/png": "[encoded data removed]",
      "text/plain": [
       "plot without title"
      ]
     },
     "metadata": {},
     "output_type": "display_data"
    }
   ],
   "source": [
    "data_non_initial <- subset(data_consent, is_resp_cont_name == \"0\")\n",
    "data_non_initial$call_cont_name <- as.character(data_non_initial$call_cont_name)\n",
    "table(data_non_initial$call_cont_name)\n",
    "table(data_non_initial$call_cont_name)[\"0\"]/length(data_non_initial$call_cont_name)\n",
    "table(data_non_initial$call_cont_name)[\"1\"]/length(data_non_initial$call_cont_name)\n",
    "ggplot(data_non_initial, aes(x = call_cont_name)) +  \n",
    "        geom_bar(aes(y = (..count..)/sum(..count..))) +\n",
    "        scale_y_continuous(labels=scales::percent) +\n",
    "        ylab(\"Percentage Share of Each Initial Contact Request Response\")"
   ]
  },
  {
   "cell_type": "markdown",
   "metadata": {},
   "source": [
    "Among non initial contacts, 92% refused to give the phone to the initial contacts, and only 7.9% agreed"
   ]
  },
  {
   "attachments": {},
   "cell_type": "markdown",
   "metadata": {},
   "source": [
    "## 5. Find the distribution of reasons of refusing to let the initial contact speak\n",
    "\n",
    "0\tNot at home\n",
    "<br>\n",
    "1\tCall Back later\n",
    "<br>\n",
    "2\tI can talk on behalf of them\n",
    "<br>\n",
    "3\tWrong information, no person of such name lives here\n",
    "<br>\n",
    "4\tAny other, specify:\n",
    "<br>"
   ]
  },
  {
   "cell_type": "code",
   "execution_count": 8,
   "metadata": {},
   "outputs": [
    {
     "data": {
      "text/plain": [
       "\n",
       "  0   1   2   3   4 \n",
       " 50   1 200  13  74 "
      ]
     },
     "metadata": {},
     "output_type": "display_data"
    },
    {
     "data": {
      "text/plain": [
       "\n",
       "         0          1          2          3          4 \n",
       "0.14792899 0.00295858 0.59171598 0.03846154 0.21893491 "
      ]
     },
     "metadata": {},
     "output_type": "display_data"
    }
   ],
   "source": [
    "data_cannot_speak <- subset(data_non_initial, call_cont_name == \"0\")\n",
    "data_cannot_speak$person_unavail <- as.character(data_cannot_speak$person_unavail)\n",
    "table(data_cannot_speak$person_unavail)\n",
    "table(data_cannot_speak$person_unavail)/length(data_cannot_speak$person_unavail)"
   ]
  },
  {
   "cell_type": "markdown",
   "metadata": {},
   "source": [
    "Nearly 60% of the respondents claimed that they could talk on behalf of the initial contacts\n",
    "<br>\n",
    "Approximately 21% listed other reasons\n",
    "<br>\n",
    "About 14% said that the initial contacts are not home\n",
    "<br>\n",
    "The detailed information of \"other reasons\" is listed below"
   ]
  },
  {
   "cell_type": "code",
   "execution_count": 9,
   "metadata": {},
   "outputs": [
    {
     "data": {
      "text/html": [
       "<table>\n",
       "<thead><tr><th scope=col>Var1</th><th scope=col>Freq</th></tr></thead>\n",
       "<tbody>\n",
       "\t<tr><td>Abhi neelam ji ke husband office me hai.....                             </td><td> 1                                                                       </td></tr>\n",
       "\t<tr><td>Bahar                                                                    </td><td> 1                                                                       </td></tr>\n",
       "\t<tr><td>Bahar hai                                                                </td><td> 1                                                                       </td></tr>\n",
       "\t<tr><td>Baher hai abhi jinke pas phone hai.....                                  </td><td> 1                                                                       </td></tr>\n",
       "\t<tr><td>Baher hai abhi.....                                                      </td><td> 1                                                                       </td></tr>\n",
       "\t<tr><td>Cg                                                                       </td><td> 1                                                                       </td></tr>\n",
       "\t<tr><td>Child have been past away.....                                           </td><td> 1                                                                       </td></tr>\n",
       "\t<tr><td>Company me hai jinke pas mobile hai.....                                 </td><td> 1                                                                       </td></tr>\n",
       "\t<tr><td>Court me hai.....                                                        </td><td> 1                                                                       </td></tr>\n",
       "\t<tr><td>D                                                                        </td><td> 1                                                                       </td></tr>\n",
       "\t<tr><td>Devar ka number hai abhi Ghar par nahi hai                               </td><td> 1                                                                       </td></tr>\n",
       "\t<tr><td>Disre gaon main rehti hai                                                </td><td> 1                                                                       </td></tr>\n",
       "\t<tr><td>G                                                                        </td><td> 2                                                                       </td></tr>\n",
       "\t<tr><td>Gaon main hai                                                            </td><td> 1                                                                       </td></tr>\n",
       "\t<tr><td>Gg                                                                       </td><td> 1                                                                       </td></tr>\n",
       "\t<tr><td>Ghar par nahi hai                                                        </td><td> 5                                                                       </td></tr>\n",
       "\t<tr><td>Ghar par nahi hai husband                                                </td><td> 1                                                                       </td></tr>\n",
       "\t<tr><td>Ghar se baher hai.....                                                   </td><td> 1                                                                       </td></tr>\n",
       "\t<tr><td>Husband bahar hai                                                        </td><td> 2                                                                       </td></tr>\n",
       "\t<tr><td>Husband dukaan par hai                                                   </td><td> 1                                                                       </td></tr>\n",
       "\t<tr><td>Husband duty par hai                                                     </td><td> 1                                                                       </td></tr>\n",
       "\t<tr><td>Husband Ghar par nahi hai                                                </td><td> 4                                                                       </td></tr>\n",
       "\t<tr><td>Husband is at the job                                                    </td><td> 1                                                                       </td></tr>\n",
       "\t<tr><td>Husband is not in home                                                   </td><td> 2                                                                       </td></tr>\n",
       "\t<tr><td>Husband is not in house                                                  </td><td> 1                                                                       </td></tr>\n",
       "\t<tr><td>Husband is outside                                                       </td><td> 1                                                                       </td></tr>\n",
       "\t<tr><td>Husband is outside from the house                                        </td><td>13                                                                       </td></tr>\n",
       "\t<tr><td>Husband isn't in the house                                               </td><td> 1                                                                       </td></tr>\n",
       "\t<tr><td>Jinka mobile hai wo apne shop pe hai.....                                </td><td> 1                                                                       </td></tr>\n",
       "\t<tr><td>Jinke pas mobile hai wo apne duty pe ja chuke h.....                     </td><td> 1                                                                       </td></tr>\n",
       "\t<tr><td>Jinke pas mobile hai wo mumbai me hai.....                               </td><td> 1                                                                       </td></tr>\n",
       "\t<tr><td>Jinke pas phone hai wo abhi job pe hai.....                              </td><td> 1                                                                       </td></tr>\n",
       "\t<tr><td>Jinke pas phone hai wo agriculture kar rahe hai... Ghar pe nahi hai......</td><td> 1                                                                       </td></tr>\n",
       "\t<tr><td>Jinke pas phone hai wo baher hai abhi.....                               </td><td> 1                                                                       </td></tr>\n",
       "\t<tr><td>Jinke pas phone hai wo baher hai.....                                    </td><td> 1                                                                       </td></tr>\n",
       "\t<tr><td>Jinke pas phone hai wo is time ghar pe nahi hai.....                     </td><td> 1                                                                       </td></tr>\n",
       "\t<tr><td>Jiske pass phone h wo ghar pe nahi h.....                                </td><td> 1                                                                       </td></tr>\n",
       "\t<tr><td>Market main hai husband                                                  </td><td> 1                                                                       </td></tr>\n",
       "\t<tr><td>Market me hai.....                                                       </td><td> 1                                                                       </td></tr>\n",
       "\t<tr><td>Nahi hai                                                                 </td><td> 1                                                                       </td></tr>\n",
       "\t<tr><td>Owner of this isn't in the house                                         </td><td> 1                                                                       </td></tr>\n",
       "\t<tr><td>Owner of this number not in the house                                    </td><td> 1                                                                       </td></tr>\n",
       "\t<tr><td>Phone kavita ke husband ke pas or wo ghar pe nahi hai.....               </td><td> 1                                                                       </td></tr>\n",
       "\t<tr><td>Pitaah ji khet main hai                                                  </td><td> 1                                                                       </td></tr>\n",
       "\t<tr><td>Respondent ke husband abhi ghar pe nahi hai.....                         </td><td> 1                                                                       </td></tr>\n",
       "\t<tr><td>Respondent ke husband job pe hai.....                                    </td><td> 1                                                                       </td></tr>\n",
       "\t<tr><td>Respondent kisi k intekal me gayi hui hai.....                           </td><td> 1                                                                       </td></tr>\n",
       "\t<tr><td>Tabassum ji ke husband baher h abhi.....                                 </td><td> 1                                                                       </td></tr>\n",
       "\t<tr><td>The owner of this number is outside                                      </td><td> 1                                                                       </td></tr>\n",
       "\t<tr><td>This number is belong to asha worker's son                               </td><td> 1                                                                       </td></tr>\n",
       "\t<tr><td>Traveling kar rahe hai abhi jinke pas phone hai.....                     </td><td> 1                                                                       </td></tr>\n",
       "</tbody>\n",
       "</table>\n"
      ],
      "text/latex": [
       "\\begin{tabular}{r|ll}\n",
       " Var1 & Freq\\\\\n",
       "\\hline\n",
       "\t Abhi neelam ji ke husband office me hai.....                              &  1                                                                       \\\\\n",
       "\t Bahar                                                                     &  1                                                                       \\\\\n",
       "\t Bahar hai                                                                 &  1                                                                       \\\\\n",
       "\t Baher hai abhi jinke pas phone hai.....                                   &  1                                                                       \\\\\n",
       "\t Baher hai abhi.....                                                       &  1                                                                       \\\\\n",
       "\t Cg                                                                        &  1                                                                       \\\\\n",
       "\t Child have been past away.....                                            &  1                                                                       \\\\\n",
       "\t Company me hai jinke pas mobile hai.....                                  &  1                                                                       \\\\\n",
       "\t Court me hai.....                                                         &  1                                                                       \\\\\n",
       "\t D                                                                         &  1                                                                       \\\\\n",
       "\t Devar ka number hai abhi Ghar par nahi hai                                &  1                                                                       \\\\\n",
       "\t Disre gaon main rehti hai                                                 &  1                                                                       \\\\\n",
       "\t G                                                                         &  2                                                                       \\\\\n",
       "\t Gaon main hai                                                             &  1                                                                       \\\\\n",
       "\t Gg                                                                        &  1                                                                       \\\\\n",
       "\t Ghar par nahi hai                                                         &  5                                                                       \\\\\n",
       "\t Ghar par nahi hai husband                                                 &  1                                                                       \\\\\n",
       "\t Ghar se baher hai.....                                                    &  1                                                                       \\\\\n",
       "\t Husband bahar hai                                                         &  2                                                                       \\\\\n",
       "\t Husband dukaan par hai                                                    &  1                                                                       \\\\\n",
       "\t Husband duty par hai                                                      &  1                                                                       \\\\\n",
       "\t Husband Ghar par nahi hai                                                 &  4                                                                       \\\\\n",
       "\t Husband is at the job                                                     &  1                                                                       \\\\\n",
       "\t Husband is not in home                                                    &  2                                                                       \\\\\n",
       "\t Husband is not in house                                                   &  1                                                                       \\\\\n",
       "\t Husband is outside                                                        &  1                                                                       \\\\\n",
       "\t Husband is outside from the house                                         & 13                                                                       \\\\\n",
       "\t Husband isn't in the house                                                &  1                                                                       \\\\\n",
       "\t Jinka mobile hai wo apne shop pe hai.....                                 &  1                                                                       \\\\\n",
       "\t Jinke pas mobile hai wo apne duty pe ja chuke h.....                      &  1                                                                       \\\\\n",
       "\t Jinke pas mobile hai wo mumbai me hai.....                                &  1                                                                       \\\\\n",
       "\t Jinke pas phone hai wo abhi job pe hai.....                               &  1                                                                       \\\\\n",
       "\t Jinke pas phone hai wo agriculture kar rahe hai... Ghar pe nahi hai...... &  1                                                                       \\\\\n",
       "\t Jinke pas phone hai wo baher hai abhi.....                                &  1                                                                       \\\\\n",
       "\t Jinke pas phone hai wo baher hai.....                                     &  1                                                                       \\\\\n",
       "\t Jinke pas phone hai wo is time ghar pe nahi hai.....                      &  1                                                                       \\\\\n",
       "\t Jiske pass phone h wo ghar pe nahi h.....                                 &  1                                                                       \\\\\n",
       "\t Market main hai husband                                                   &  1                                                                       \\\\\n",
       "\t Market me hai.....                                                        &  1                                                                       \\\\\n",
       "\t Nahi hai                                                                  &  1                                                                       \\\\\n",
       "\t Owner of this isn't in the house                                          &  1                                                                       \\\\\n",
       "\t Owner of this number not in the house                                     &  1                                                                       \\\\\n",
       "\t Phone kavita ke husband ke pas or wo ghar pe nahi hai.....                &  1                                                                       \\\\\n",
       "\t Pitaah ji khet main hai                                                   &  1                                                                       \\\\\n",
       "\t Respondent ke husband abhi ghar pe nahi hai.....                          &  1                                                                       \\\\\n",
       "\t Respondent ke husband job pe hai.....                                     &  1                                                                       \\\\\n",
       "\t Respondent kisi k intekal me gayi hui hai.....                            &  1                                                                       \\\\\n",
       "\t Tabassum ji ke husband baher h abhi.....                                  &  1                                                                       \\\\\n",
       "\t The owner of this number is outside                                       &  1                                                                       \\\\\n",
       "\t This number is belong to asha worker's son                                &  1                                                                       \\\\\n",
       "\t Traveling kar rahe hai abhi jinke pas phone hai.....                      &  1                                                                       \\\\\n",
       "\\end{tabular}\n"
      ],
      "text/markdown": [
       "\n",
       "| Var1 | Freq |\n",
       "|---|---|\n",
       "| Abhi neelam ji ke husband office me hai.....                              |  1                                                                        |\n",
       "| Bahar                                                                     |  1                                                                        |\n",
       "| Bahar hai                                                                 |  1                                                                        |\n",
       "| Baher hai abhi jinke pas phone hai.....                                   |  1                                                                        |\n",
       "| Baher hai abhi.....                                                       |  1                                                                        |\n",
       "| Cg                                                                        |  1                                                                        |\n",
       "| Child have been past away.....                                            |  1                                                                        |\n",
       "| Company me hai jinke pas mobile hai.....                                  |  1                                                                        |\n",
       "| Court me hai.....                                                         |  1                                                                        |\n",
       "| D                                                                         |  1                                                                        |\n",
       "| Devar ka number hai abhi Ghar par nahi hai                                |  1                                                                        |\n",
       "| Disre gaon main rehti hai                                                 |  1                                                                        |\n",
       "| G                                                                         |  2                                                                        |\n",
       "| Gaon main hai                                                             |  1                                                                        |\n",
       "| Gg                                                                        |  1                                                                        |\n",
       "| Ghar par nahi hai                                                         |  5                                                                        |\n",
       "| Ghar par nahi hai husband                                                 |  1                                                                        |\n",
       "| Ghar se baher hai.....                                                    |  1                                                                        |\n",
       "| Husband bahar hai                                                         |  2                                                                        |\n",
       "| Husband dukaan par hai                                                    |  1                                                                        |\n",
       "| Husband duty par hai                                                      |  1                                                                        |\n",
       "| Husband Ghar par nahi hai                                                 |  4                                                                        |\n",
       "| Husband is at the job                                                     |  1                                                                        |\n",
       "| Husband is not in home                                                    |  2                                                                        |\n",
       "| Husband is not in house                                                   |  1                                                                        |\n",
       "| Husband is outside                                                        |  1                                                                        |\n",
       "| Husband is outside from the house                                         | 13                                                                        |\n",
       "| Husband isn't in the house                                                |  1                                                                        |\n",
       "| Jinka mobile hai wo apne shop pe hai.....                                 |  1                                                                        |\n",
       "| Jinke pas mobile hai wo apne duty pe ja chuke h.....                      |  1                                                                        |\n",
       "| Jinke pas mobile hai wo mumbai me hai.....                                |  1                                                                        |\n",
       "| Jinke pas phone hai wo abhi job pe hai.....                               |  1                                                                        |\n",
       "| Jinke pas phone hai wo agriculture kar rahe hai... Ghar pe nahi hai...... |  1                                                                        |\n",
       "| Jinke pas phone hai wo baher hai abhi.....                                |  1                                                                        |\n",
       "| Jinke pas phone hai wo baher hai.....                                     |  1                                                                        |\n",
       "| Jinke pas phone hai wo is time ghar pe nahi hai.....                      |  1                                                                        |\n",
       "| Jiske pass phone h wo ghar pe nahi h.....                                 |  1                                                                        |\n",
       "| Market main hai husband                                                   |  1                                                                        |\n",
       "| Market me hai.....                                                        |  1                                                                        |\n",
       "| Nahi hai                                                                  |  1                                                                        |\n",
       "| Owner of this isn't in the house                                          |  1                                                                        |\n",
       "| Owner of this number not in the house                                     |  1                                                                        |\n",
       "| Phone kavita ke husband ke pas or wo ghar pe nahi hai.....                |  1                                                                        |\n",
       "| Pitaah ji khet main hai                                                   |  1                                                                        |\n",
       "| Respondent ke husband abhi ghar pe nahi hai.....                          |  1                                                                        |\n",
       "| Respondent ke husband job pe hai.....                                     |  1                                                                        |\n",
       "| Respondent kisi k intekal me gayi hui hai.....                            |  1                                                                        |\n",
       "| Tabassum ji ke husband baher h abhi.....                                  |  1                                                                        |\n",
       "| The owner of this number is outside                                       |  1                                                                        |\n",
       "| This number is belong to asha worker's son                                |  1                                                                        |\n",
       "| Traveling kar rahe hai abhi jinke pas phone hai.....                      |  1                                                                        |\n",
       "\n"
      ],
      "text/plain": [
       "   Var1                                                                     \n",
       "1  Abhi neelam ji ke husband office me hai.....                             \n",
       "2  Bahar                                                                    \n",
       "3  Bahar hai                                                                \n",
       "4  Baher hai abhi jinke pas phone hai.....                                  \n",
       "5  Baher hai abhi.....                                                      \n",
       "6  Cg                                                                       \n",
       "7  Child have been past away.....                                           \n",
       "8  Company me hai jinke pas mobile hai.....                                 \n",
       "9  Court me hai.....                                                        \n",
       "10 D                                                                        \n",
       "11 Devar ka number hai abhi Ghar par nahi hai                               \n",
       "12 Disre gaon main rehti hai                                                \n",
       "13 G                                                                        \n",
       "14 Gaon main hai                                                            \n",
       "15 Gg                                                                       \n",
       "16 Ghar par nahi hai                                                        \n",
       "17 Ghar par nahi hai husband                                                \n",
       "18 Ghar se baher hai.....                                                   \n",
       "19 Husband bahar hai                                                        \n",
       "20 Husband dukaan par hai                                                   \n",
       "21 Husband duty par hai                                                     \n",
       "22 Husband Ghar par nahi hai                                                \n",
       "23 Husband is at the job                                                    \n",
       "24 Husband is not in home                                                   \n",
       "25 Husband is not in house                                                  \n",
       "26 Husband is outside                                                       \n",
       "27 Husband is outside from the house                                        \n",
       "28 Husband isn't in the house                                               \n",
       "29 Jinka mobile hai wo apne shop pe hai.....                                \n",
       "30 Jinke pas mobile hai wo apne duty pe ja chuke h.....                     \n",
       "31 Jinke pas mobile hai wo mumbai me hai.....                               \n",
       "32 Jinke pas phone hai wo abhi job pe hai.....                              \n",
       "33 Jinke pas phone hai wo agriculture kar rahe hai... Ghar pe nahi hai......\n",
       "34 Jinke pas phone hai wo baher hai abhi.....                               \n",
       "35 Jinke pas phone hai wo baher hai.....                                    \n",
       "36 Jinke pas phone hai wo is time ghar pe nahi hai.....                     \n",
       "37 Jiske pass phone h wo ghar pe nahi h.....                                \n",
       "38 Market main hai husband                                                  \n",
       "39 Market me hai.....                                                       \n",
       "40 Nahi hai                                                                 \n",
       "41 Owner of this isn't in the house                                         \n",
       "42 Owner of this number not in the house                                    \n",
       "43 Phone kavita ke husband ke pas or wo ghar pe nahi hai.....               \n",
       "44 Pitaah ji khet main hai                                                  \n",
       "45 Respondent ke husband abhi ghar pe nahi hai.....                         \n",
       "46 Respondent ke husband job pe hai.....                                    \n",
       "47 Respondent kisi k intekal me gayi hui hai.....                           \n",
       "48 Tabassum ji ke husband baher h abhi.....                                 \n",
       "49 The owner of this number is outside                                      \n",
       "50 This number is belong to asha worker's son                               \n",
       "51 Traveling kar rahe hai abhi jinke pas phone hai.....                     \n",
       "   Freq\n",
       "1   1  \n",
       "2   1  \n",
       "3   1  \n",
       "4   1  \n",
       "5   1  \n",
       "6   1  \n",
       "7   1  \n",
       "8   1  \n",
       "9   1  \n",
       "10  1  \n",
       "11  1  \n",
       "12  1  \n",
       "13  2  \n",
       "14  1  \n",
       "15  1  \n",
       "16  5  \n",
       "17  1  \n",
       "18  1  \n",
       "19  2  \n",
       "20  1  \n",
       "21  1  \n",
       "22  4  \n",
       "23  1  \n",
       "24  2  \n",
       "25  1  \n",
       "26  1  \n",
       "27 13  \n",
       "28  1  \n",
       "29  1  \n",
       "30  1  \n",
       "31  1  \n",
       "32  1  \n",
       "33  1  \n",
       "34  1  \n",
       "35  1  \n",
       "36  1  \n",
       "37  1  \n",
       "38  1  \n",
       "39  1  \n",
       "40  1  \n",
       "41  1  \n",
       "42  1  \n",
       "43  1  \n",
       "44  1  \n",
       "45  1  \n",
       "46  1  \n",
       "47  1  \n",
       "48  1  \n",
       "49  1  \n",
       "50  1  \n",
       "51  1  "
      ]
     },
     "metadata": {},
     "output_type": "display_data"
    }
   ],
   "source": [
    "## Other reasons?\n",
    "data.frame(table(data_cannot_speak$person_unavail_other))"
   ]
  },
  {
   "attachments": {},
   "cell_type": "markdown",
   "metadata": {},
   "source": [
    "## 6. Find the distribution of their relation to the initial contact\n",
    "\n",
    "0\tI am her Husband\n",
    "<br>\n",
    "1\tI am her Mother in Law\n",
    "<br>\n",
    "2\tI am her Father in Law\n",
    "<br>\n",
    "3\tI am her Brother in Law\n",
    "<br>\n",
    "4\tI am her Sister in Law\n",
    "<br>\n",
    "5\tAny other\n",
    "<br>"
   ]
  },
  {
   "cell_type": "code",
   "execution_count": 10,
   "metadata": {},
   "outputs": [
    {
     "data": {
      "text/plain": [
       "\n",
       "          0           1           2           3           4           5 \n",
       "0.585831063 0.008174387 0.029972752 0.029972752 0.002724796 0.228882834 "
      ]
     },
     "metadata": {},
     "output_type": "display_data"
    }
   ],
   "source": [
    "table(data_non_initial$rel_with_mother)/length(data_non_initial$rel_with_mother)"
   ]
  },
  {
   "cell_type": "markdown",
   "metadata": {},
   "source": [
    "Among non initial contacts, 58% are husbands, nearly 23% are others"
   ]
  },
  {
   "cell_type": "markdown",
   "metadata": {},
   "source": [
    "## 7. Refuse reasons break down by relations"
   ]
  },
  {
   "cell_type": "code",
   "execution_count": 11,
   "metadata": {},
   "outputs": [
    {
     "data": {
      "image/png": "[encoded data removed]",
      "text/plain": [
       "plot without title"
      ]
     },
     "metadata": {},
     "output_type": "display_data"
    }
   ],
   "source": [
    "ggplot(data_cannot_speak, aes(x = person_unavail, group=rel_with_mother)) +  \n",
    "        geom_bar(aes(y = ..prop.., fill = factor(..x..)), stat=\"count\") +\n",
    "        geom_text(aes( label = scales::percent(..prop..),\n",
    "                       y= ..prop.. ,hjust=0.3, vjust=1.5), stat= \"count\")+\n",
    "        scale_y_continuous(labels=scales::percent) +\n",
    "        ylab(\"Percentage Share of Each Unavailability Reason\") +\n",
    "        facet_grid(~rel_with_mother)\n",
    "\n",
    "\n",
    "## 0 Not at home \n",
    "## 1 Call Back later \n",
    "## 2 I can talk on behalf of them \n",
    "## 3 Wrong information, no person of such name lives here \n",
    "## 4 Any other, specify:"
   ]
  },
  {
   "cell_type": "markdown",
   "metadata": {},
   "source": [
    "It is observed that 67% husbands said that they could talk on behalf of initial contacts\n",
    "<br>\n",
    "66.7% of mothers in law said that the initial contacts were not at home\n",
    "<br>\n",
    "100% of sisters in law said that the initial contacts were not at home\n",
    "<br>"
   ]
  },
  {
   "cell_type": "markdown",
   "metadata": {},
   "source": [
    "## Combine the analysis records:\n",
    "<br>\n",
    "Group 1: \"Yes, I am...\"\n",
    "<br>\n",
    "Group 2: \"I am not ..., but you can speak with ...\"\n",
    "<br>\n",
    "Group 3: \"I am not ..., and you cannot speak with..., but I can talk on her behalf\"\n",
    "<br>"
   ]
  },
  {
   "cell_type": "code",
   "execution_count": 12,
   "metadata": {},
   "outputs": [],
   "source": [
    "group_1 <- subset(data_consent, is_resp_cont_name == \"1\")\n",
    "group_1$type <- \"Initial Contact Mom\"\n",
    "group_2 <- subset(data_consent, (is_resp_cont_name == \"0\") & (call_cont_name == \"1\"))\n",
    "group_2$type <- \"Initial Contact Mom\"\n",
    "group_3 <- subset(\n",
    "        data_consent, (is_resp_cont_name == \"0\") & (call_cont_name == \"0\") & (\n",
    "                person_unavail == \"2\"))\n",
    "group_3$type <- \"Family Member on Her Behalf\"\n",
    "analysis_group <- bind_rows(group_1, group_2, group_3)\n",
    "## We create another variable \"type\" that indicates if the interviewee is the initial contact"
   ]
  },
  {
   "cell_type": "code",
   "execution_count": 13,
   "metadata": {},
   "outputs": [
    {
     "data": {
      "text/html": [
       "316"
      ],
      "text/latex": [
       "316"
      ],
      "text/markdown": [
       "316"
      ],
      "text/plain": [
       "[1] 316"
      ]
     },
     "metadata": {},
     "output_type": "display_data"
    }
   ],
   "source": [
    "nrow(analysis_group)\n",
    "## 316 records in data are eligible for analysis"
   ]
  },
  {
   "attachments": {},
   "cell_type": "markdown",
   "metadata": {},
   "source": [
    "## 8. Distribution of the responses to the question \"Did you receive the message from us?\"\n",
    "\n",
    "0\tYes, I am sure I received an SMS\n",
    "<br>\n",
    "1\tYes, I vaguely remember receiving an SMS\n",
    "<br>\n",
    "2\tNo, I did not receive an SMS\n",
    "<br>\n",
    "3\tAs far as I remember I deleted all the messages\n",
    "<br>\n",
    "5\tI don't know\n",
    "<br>\n",
    "4\tAny other\n",
    "<br>"
   ]
  },
  {
   "cell_type": "code",
   "execution_count": 14,
   "metadata": {},
   "outputs": [
    {
     "data": {
      "text/plain": [
       "\n",
       "          0           1           2           3           4           5 \n",
       "0.382911392 0.009493671 0.348101266 0.031645570 0.022151899 0.205696203 "
      ]
     },
     "metadata": {},
     "output_type": "display_data"
    },
    {
     "data": {
      "image/png": "[encoded data removed]",
      "text/plain": [
       "plot without title"
      ]
     },
     "metadata": {},
     "output_type": "display_data"
    }
   ],
   "source": [
    "table(analysis_group$rec_sms_from_CSH_flag)/length(analysis_group$rec_sms_from_CSH_flag)\n",
    "ggplot(analysis_group, aes(x = rec_sms_from_CSH_flag)) +  \n",
    "        geom_bar(aes(y = (..count..)/sum(..count..))) +\n",
    "        scale_y_continuous(labels=scales::percent) +\n",
    "        ylab(\"Percentage Share of Each Receiving SMS Response\")"
   ]
  },
  {
   "cell_type": "markdown",
   "metadata": {},
   "source": [
    "38.29% said absolute yes, 34.81% said no, and 20.56% said \"I don't know\""
   ]
  },
  {
   "cell_type": "code",
   "execution_count": 15,
   "metadata": {},
   "outputs": [
    {
     "data": {
      "image/png": "[encoded data removed]",
      "text/plain": [
       "plot without title"
      ]
     },
     "metadata": {},
     "output_type": "display_data"
    }
   ],
   "source": [
    "## Same distribution break down by type (initial contact vs. non initial contact)\n",
    "\n",
    "ggplot(analysis_group, aes(x = rec_sms_from_CSH_flag, group=type)) +  \n",
    "        geom_bar(aes(y = ..prop.., fill = factor(..x..)), stat=\"count\") +\n",
    "        geom_text(aes( label = scales::percent(..prop..),\n",
    "                       y= ..prop.. ,hjust=0.3, vjust=1.5), stat= \"count\")+\n",
    "        scale_y_continuous(labels=scales::percent) +\n",
    "        ylab(\"Percentage Share of Each Receiving SMS Response by Type\") +\n",
    "        facet_grid(~type)"
   ]
  },
  {
   "cell_type": "code",
   "execution_count": 16,
   "metadata": {},
   "outputs": [
    {
     "name": "stderr",
     "output_type": "stream",
     "text": [
      "Don't know how to automatically pick scale for object of type difftime. Defaulting to continuous.\n",
      "Don't know how to automatically pick scale for object of type difftime. Defaulting to continuous.\n"
     ]
    },
    {
     "data": {
      "image/png": "[encoded data removed]",
      "text/plain": [
       "plot without title"
      ]
     },
     "metadata": {},
     "output_type": "display_data"
    }
   ],
   "source": [
    "## Same distribution break down by days lag (how many days was the interview conducted after sending the SMS)\n",
    "\n",
    "ggplot(analysis_group, aes(x = rec_sms_from_CSH_flag, group=days_lag)) +  \n",
    "        geom_bar(aes(y = ..prop.., fill = factor(..x..)), stat=\"count\") +\n",
    "        geom_text(aes( label = scales::percent(..prop..),\n",
    "                       y= ..prop.. ,hjust=0.3, vjust=1.5), stat= \"count\")+\n",
    "        scale_y_continuous(labels=scales::percent) +\n",
    "        ylab(\"Percentage Share of Each Receiving SMS Response by Days Lag\") +\n",
    "        facet_grid(~days_lag)"
   ]
  },
  {
   "cell_type": "code",
   "execution_count": 17,
   "metadata": {},
   "outputs": [
    {
     "data": {
      "text/html": [
       "<table>\n",
       "<thead><tr><th scope=col>Var1</th><th scope=col>Freq</th></tr></thead>\n",
       "<tbody>\n",
       "\t<tr><td>Abhi check karke batata hu                  </td><td>1                                           </td></tr>\n",
       "\t<tr><td>Call back later                             </td><td>1                                           </td></tr>\n",
       "\t<tr><td>Network issue ke karan bat nahi ho paya.....</td><td>1                                           </td></tr>\n",
       "\t<tr><td>Respondent busy                             </td><td>1                                           </td></tr>\n",
       "\t<tr><td>Respondent language is diffrent             </td><td>1                                           </td></tr>\n",
       "\t<tr><td>The child has been past.....                </td><td>1                                           </td></tr>\n",
       "</tbody>\n",
       "</table>\n"
      ],
      "text/latex": [
       "\\begin{tabular}{r|ll}\n",
       " Var1 & Freq\\\\\n",
       "\\hline\n",
       "\t Abhi check karke batata hu                   & 1                                           \\\\\n",
       "\t Call back later                              & 1                                           \\\\\n",
       "\t Network issue ke karan bat nahi ho paya..... & 1                                           \\\\\n",
       "\t Respondent busy                              & 1                                           \\\\\n",
       "\t Respondent language is diffrent              & 1                                           \\\\\n",
       "\t The child has been past.....                 & 1                                           \\\\\n",
       "\\end{tabular}\n"
      ],
      "text/markdown": [
       "\n",
       "| Var1 | Freq |\n",
       "|---|---|\n",
       "| Abhi check karke batata hu                   | 1                                            |\n",
       "| Call back later                              | 1                                            |\n",
       "| Network issue ke karan bat nahi ho paya..... | 1                                            |\n",
       "| Respondent busy                              | 1                                            |\n",
       "| Respondent language is diffrent              | 1                                            |\n",
       "| The child has been past.....                 | 1                                            |\n",
       "\n"
      ],
      "text/plain": [
       "  Var1                                         Freq\n",
       "1 Abhi check karke batata hu                   1   \n",
       "2 Call back later                              1   \n",
       "3 Network issue ke karan bat nahi ho paya..... 1   \n",
       "4 Respondent busy                              1   \n",
       "5 Respondent language is diffrent              1   \n",
       "6 The child has been past.....                 1   "
      ]
     },
     "metadata": {},
     "output_type": "display_data"
    }
   ],
   "source": [
    "## Other responses to the above question?\n",
    "data.frame(table(analysis_group$rec_sms_from_CSH_flag_other))"
   ]
  },
  {
   "attachments": {},
   "cell_type": "markdown",
   "metadata": {},
   "source": [
    "## 9. Distribution of the responses to the question \"Please specify why don't know?\"\n",
    "\n",
    "0\tI don't know because I delete all my messages.\n",
    "<br>\n",
    "1\tI don't know because this is not my phone.\n",
    "<br>\n",
    "3\tI don't know because someone else checks the messages for them\n",
    "<br>\n",
    "4\tI don't know because I never check my messages\n",
    "<br>\n",
    "5\tI don't know because I don't remember\n",
    "<br>\n",
    "6\tAny other\n",
    "<br>"
   ]
  },
  {
   "cell_type": "code",
   "execution_count": 18,
   "metadata": {},
   "outputs": [
    {
     "data": {
      "text/plain": [
       "\n",
       "         0          1          4          5          6 \n",
       "0.03076923 0.12307692 0.46153846 0.20000000 0.18461538 "
      ]
     },
     "metadata": {},
     "output_type": "display_data"
    }
   ],
   "source": [
    "analysis_dontknow <- subset(analysis_group, rec_sms_from_CSH_flag == 5)\n",
    "table(analysis_dontknow$rec_sms_from_CSH_flag_dont_know)/length(\n",
    "        analysis_dontknow$rec_sms_from_CSH_flag_dont_know)"
   ]
  },
  {
   "cell_type": "markdown",
   "metadata": {},
   "source": [
    "12.3% said they don't know because its not their phone\n",
    "<br>\n",
    "46.15% said they don't know because they never check messages\n",
    "<br>\n",
    "20% said they don't know because they don't remember"
   ]
  },
  {
   "cell_type": "code",
   "execution_count": 19,
   "metadata": {},
   "outputs": [
    {
     "name": "stderr",
     "output_type": "stream",
     "text": [
      "Don't know how to automatically pick scale for object of type difftime. Defaulting to continuous.\n",
      "Don't know how to automatically pick scale for object of type difftime. Defaulting to continuous.\n"
     ]
    },
    {
     "data": {
      "image/png": "[encoded data removed]",
      "text/plain": [
       "plot without title"
      ]
     },
     "metadata": {},
     "output_type": "display_data"
    }
   ],
   "source": [
    "## Don't know responses break down by time lag (how many days was the interview conducted after sending the SMS)\n",
    "\n",
    "ggplot(analysis_dontknow, aes(x = rec_sms_from_CSH_flag_dont_know, group=days_lag)) +  \n",
    "        geom_bar(aes(y = ..prop.., fill = factor(..x..)), stat=\"count\") +\n",
    "        geom_text(aes( label = scales::percent(..prop..),\n",
    "                       y= ..prop.. ,hjust=0.3, vjust=1.5), stat= \"count\")+\n",
    "        scale_y_continuous(labels=scales::percent) +\n",
    "        ylab(\"Percentage Share of Each Don't Know Response by Days Lag\") +\n",
    "        facet_grid(~days_lag)"
   ]
  },
  {
   "cell_type": "code",
   "execution_count": 20,
   "metadata": {},
   "outputs": [
    {
     "data": {
      "image/png": "[encoded data removed]",
      "text/plain": [
       "plot without title"
      ]
     },
     "metadata": {},
     "output_type": "display_data"
    }
   ],
   "source": [
    "## Don't know responses break down by type(initial contact vs. non-initial contact)\n",
    "\n",
    "ggplot(analysis_dontknow, aes(x = rec_sms_from_CSH_flag_dont_know, group=type)) +  \n",
    "        geom_bar(aes(y = ..prop.., fill = factor(..x..)), stat=\"count\") +\n",
    "        geom_text(aes( label = scales::percent(..prop..),\n",
    "                       y= ..prop.. ,hjust=0.3, vjust=1.5), stat= \"count\")+\n",
    "        scale_y_continuous(labels=scales::percent) +\n",
    "        ylab(\"Percentage Share of Each Don't Know Response by Type\") +\n",
    "        facet_grid(~type)"
   ]
  },
  {
   "cell_type": "markdown",
   "metadata": {},
   "source": [
    "## 10. If you receive the SMS from us, can you remember the message content?\n",
    "\n",
    "0 No\n",
    "<br>\n",
    "1 Yes"
   ]
  },
  {
   "cell_type": "code",
   "execution_count": 21,
   "metadata": {},
   "outputs": [
    {
     "data": {
      "text/plain": [
       "\n",
       "        0         1 \n",
       "0.2903226 0.7096774 "
      ]
     },
     "metadata": {},
     "output_type": "display_data"
    },
    {
     "data": {
      "image/png": "[encoded data removed]",
      "text/plain": [
       "plot without title"
      ]
     },
     "metadata": {},
     "output_type": "display_data"
    }
   ],
   "source": [
    "analysis_received <- subset(\n",
    "        analysis_group, (\n",
    "                rec_sms_from_CSH_flag == \"0\") | (rec_sms_from_CSH_flag == \"1\"))\n",
    "table(analysis_received$can_rem_msg_content_flag)/length(\n",
    "        analysis_received$can_rem_msg_content_flag)\n",
    "ggplot(analysis_received, aes(x = can_rem_msg_content_flag)) +  \n",
    "        geom_bar(aes(y = (..count..)/sum(..count..))) +\n",
    "        scale_y_continuous(labels=scales::percent) +\n",
    "        ylab(\"Percentage Share of People Remembering and People Not Remembering\")"
   ]
  },
  {
   "cell_type": "markdown",
   "metadata": {},
   "source": [
    "Among those who claimed that they received the SMS, approximately 71% of them said they could remember the content of the SMS"
   ]
  },
  {
   "attachments": {},
   "cell_type": "markdown",
   "metadata": {},
   "source": [
    "## 10. If you could not remember, why?\n",
    "\n",
    "1\tI receive many messages, so I don't read carefully\n",
    "<br>\n",
    "2\tAny other\n",
    "<br>"
   ]
  },
  {
   "cell_type": "code",
   "execution_count": 22,
   "metadata": {},
   "outputs": [
    {
     "data": {
      "text/plain": [
       "\n",
       "        1         2 \n",
       "0.3055556 0.6944444 "
      ]
     },
     "metadata": {},
     "output_type": "display_data"
    }
   ],
   "source": [
    "analysis_noremember <- subset(analysis_received, can_rem_msg_content_flag == \"0\")\n",
    "table(analysis_noremember$cannot_rem_msg_content)/length(\n",
    "        analysis_noremember$cannot_rem_msg_content)"
   ]
  },
  {
   "cell_type": "markdown",
   "metadata": {},
   "source": [
    "More than 30% said that they receive so many messages, so they do not read carefully"
   ]
  },
  {
   "attachments": {},
   "cell_type": "markdown",
   "metadata": {},
   "source": [
    "## 11. If you remember, what did the message say?\n",
    "\n",
    "0\tVaccination\n",
    "<br>\n",
    "1\tTime for\n",
    "<br>\n",
    "2\tDue\n",
    "<br>\n",
    "3\t1 week/1 day\n",
    "<br>\n",
    "4\tGo to\n",
    "<br>\n",
    "5\tASHA/Anganwadi/Health Center\n",
    "<br>\n",
    "6\tAny Other\n",
    "<br>\n",
    "7\tNone of the above\n",
    "<br>"
   ]
  },
  {
   "cell_type": "code",
   "execution_count": 23,
   "metadata": {},
   "outputs": [
    {
     "data": {
      "text/plain": [
       "\n",
       "         0    0 2 3 6        0 3    0 3 4 6        0 4        0 6   2000 3 6 \n",
       "0.10227273 0.01136364 0.22727273 0.01136364 0.01136364 0.25000000 0.34090909 \n",
       "  2000 6 7          6 \n",
       "0.01136364 0.03409091 "
      ]
     },
     "metadata": {},
     "output_type": "display_data"
    }
   ],
   "source": [
    "analysis_remember <- subset(analysis_received, can_rem_msg_content_flag == \"1\")\n",
    "table(analysis_remember$msg_content)/length(analysis_remember$msg_content)"
   ]
  },
  {
   "cell_type": "markdown",
   "metadata": {},
   "source": [
    "34.09% said they remember \"vaccination, due, 1 week/1 day, any other\"\n",
    "<br>\n",
    "25% said they remember \"vaccination, any other\"\n",
    "<br>\n",
    "22.72% said they remember \"vaccination, 1 week/1 day\"\n",
    "<br>"
   ]
  },
  {
   "cell_type": "markdown",
   "metadata": {},
   "source": [
    "## 12. Distribution of responses to \"do you sometimes delete SMS\"?\n",
    "\n",
    "0 No\n",
    "<br>\n",
    "1 Yes\n",
    "<br>"
   ]
  },
  {
   "cell_type": "code",
   "execution_count": 24,
   "metadata": {},
   "outputs": [
    {
     "data": {
      "text/plain": [
       "\n",
       "        0         1 \n",
       "0.1930380 0.1550633 "
      ]
     },
     "metadata": {},
     "output_type": "display_data"
    },
    {
     "data": {
      "image/png": "[encoded data removed]",
      "text/plain": [
       "plot without title"
      ]
     },
     "metadata": {},
     "output_type": "display_data"
    }
   ],
   "source": [
    "analysis_group$delete_sms_flag[analysis_group$delete_sms_flag==\"\"] <- \"NA\"\n",
    "table(analysis_group$delete_sms_flag)/length(analysis_group$delete_sms_flag)\n",
    "ggplot(analysis_group, aes(x = delete_sms_flag)) +  \n",
    "        geom_bar(aes(y = (..count..)/sum(..count..))) +\n",
    "        scale_y_continuous(labels=scales::percent) +\n",
    "        ylab(\"Percentage Share of People Deleting SMS\")"
   ]
  },
  {
   "cell_type": "markdown",
   "metadata": {},
   "source": [
    "15% said yes\n",
    "<br>\n",
    "19% said no\n",
    "<br>\n",
    "the rest are missing data"
   ]
  },
  {
   "attachments": {},
   "cell_type": "markdown",
   "metadata": {},
   "source": [
    "## 12. Distribution of responses to \"Please check inbox, did you find the SMS?\"\n",
    "\n",
    "0\tNo, I did not find such an SMS in my inbox\n",
    "<br>\n",
    "1\tYes,  I found such an SMS in my inbox\n",
    "<br>\n",
    "2\tDo not know how to check\n",
    "<br>\n",
    "3\tDo not want to check\n",
    "<br>"
   ]
  },
  {
   "cell_type": "code",
   "execution_count": 25,
   "metadata": {},
   "outputs": [
    {
     "data": {
      "text/plain": [
       "\n",
       "          0           1           2           3 \n",
       "0.047468354 0.253164557 0.009493671 0.082278481 "
      ]
     },
     "metadata": {},
     "output_type": "display_data"
    },
    {
     "data": {
      "image/png": "[encoded data removed]",
      "text/plain": [
       "plot without title"
      ]
     },
     "metadata": {},
     "output_type": "display_data"
    }
   ],
   "source": [
    "analysis_group$check_inbox[analysis_group$check_inbox==\"\"] <- \"NA\"\n",
    "table(analysis_group$check_inbox)/length(analysis_group$check_inbox)\n",
    "ggplot(analysis_group, aes(x = check_inbox)) +  \n",
    "        geom_bar(aes(y = (..count..)/sum(..count..))) +\n",
    "        scale_y_continuous(labels=scales::percent) +\n",
    "        ylab(\"Percentage Share of Check Inbox Response\")"
   ]
  },
  {
   "cell_type": "markdown",
   "metadata": {},
   "source": [
    "25.3% of the eligible records said \"Yes, I did find the SMS\""
   ]
  },
  {
   "cell_type": "markdown",
   "metadata": {},
   "source": [
    "## 13. Distribution of responses to the question \"can you read the content?\"\n",
    "\n",
    "0 No\n",
    "<br>\n",
    "1 Yes\n",
    "<br>"
   ]
  },
  {
   "cell_type": "code",
   "execution_count": 26,
   "metadata": {},
   "outputs": [
    {
     "data": {
      "text/plain": [
       "\n",
       "     0      1 \n",
       "0.0875 0.9125 "
      ]
     },
     "metadata": {},
     "output_type": "display_data"
    },
    {
     "data": {
      "image/png": "[encoded data removed]",
      "text/plain": [
       "plot without title"
      ]
     },
     "metadata": {},
     "output_type": "display_data"
    }
   ],
   "source": [
    "analysis_check_receive <- subset(analysis_group, check_inbox == \"1\")\n",
    "table(analysis_check_receive$read_msg_content_flag)/length(analysis_check_receive$read_msg_content_flag)\n",
    "ggplot(analysis_check_receive, aes(x = read_msg_content_flag)) +  \n",
    "        geom_bar(aes(y = (..count..)/sum(..count..))) +\n",
    "        scale_y_continuous(labels=scales::percent) +\n",
    "        ylab(\"Percentage Share of Read Content Response\")"
   ]
  },
  {
   "cell_type": "markdown",
   "metadata": {},
   "source": [
    "Among those who checked inbox and received the SMS, more than 91% of them said \"Yes, I can read the content\""
   ]
  },
  {
   "cell_type": "markdown",
   "metadata": {},
   "source": [
    "## 14. Distribution of responses to the question \"What can you read from the content?\"\n",
    "\n",
    "0 Vaccination\n",
    "<br>\n",
    "1 Time for \n",
    "<br>\n",
    "2 Due \n",
    "<br>\n",
    "3 1 week/1 day \n",
    "<br>\n",
    "4 Go to \n",
    "<br>\n",
    "5 ASHA/Anganwadi/Health Center \n",
    "<br>\n",
    "6 Any Other \n",
    "<br>\n",
    "7 None of the above \n",
    "<br>"
   ]
  },
  {
   "cell_type": "code",
   "execution_count": 27,
   "metadata": {},
   "outputs": [
    {
     "data": {
      "text/plain": [
       "\n",
       "       0      0 3  0 3 4 6      0 6 1 3 2006 2000 1 3 2000 3 6 2000 6 7 \n",
       "  0.0375   0.1625   0.0250   0.2125   0.0125   0.0125   0.4250   0.0125 \n",
       "     3 6 \n",
       "  0.0125 "
      ]
     },
     "metadata": {},
     "output_type": "display_data"
    }
   ],
   "source": [
    "analysis_check_receive$read_msg_content[analysis_check_receive$read_msg_content==\"\"] <- 'NA'\n",
    "table(analysis_check_receive$read_msg_content)/length(analysis_check_receive$read_msg_content)"
   ]
  },
  {
   "cell_type": "markdown",
   "metadata": {},
   "source": [
    "Among those who received the message, 42.5% of them said they could read \"vaccination, due, 1 week/1 day, any other\"\n",
    "<br>\n",
    "21.25% of them said they could read \"vaccination, any other\"\n",
    "<br>\n",
    "16.25% of them said they could read \"vaccination, 1 week/1 day\""
   ]
  },
  {
   "cell_type": "code",
   "execution_count": null,
   "metadata": {},
   "outputs": [],
   "source": []
  }
 ],
 "metadata": {
  "kernelspec": {
   "display_name": "R",
   "language": "R",
   "name": "ir"
  },
  "language_info": {
   "codemirror_mode": "r",
   "file_extension": ".r",
   "mimetype": "text/x-r-source",
   "name": "R",
   "pygments_lexer": "r",
   "version": "3.6.0"
  }
 },
 "nbformat": 4,
 "nbformat_minor": 2
}
